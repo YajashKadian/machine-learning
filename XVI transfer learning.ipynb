{
 "cells": [
  {
   "cell_type": "code",
   "execution_count": 1,
   "metadata": {},
   "outputs": [],
   "source": [
    "import numpy as np\n",
    "import matplotlib.pyplot as plt\n",
    "%matplotlib inline"
   ]
  },
  {
   "cell_type": "code",
   "execution_count": 8,
   "metadata": {},
   "outputs": [],
   "source": [
    "from keras.datasets import mnist\n",
    "from keras.layers import Dense,Convolution2D,Flatten,Activation,MaxPooling2D,Dropout,Conv2D\n",
    "from keras.models import Sequential\n",
    "from keras.utils import np_utils"
   ]
  },
  {
   "cell_type": "code",
   "execution_count": 3,
   "metadata": {},
   "outputs": [
    {
     "name": "stdout",
     "output_type": "stream",
     "text": [
      "(60000, 28, 28) (10000, 28, 28)\n"
     ]
    }
   ],
   "source": [
    "(x_train,y_train),(x_test,y_test) = mnist.load_data()\n",
    "print(x_train.shape,x_test.shape)"
   ]
  },
  {
   "cell_type": "code",
   "execution_count": 4,
   "metadata": {},
   "outputs": [],
   "source": [
    "num_examples =20000\n",
    "\n",
    "x1_train = []\n",
    "x1_test = []\n",
    "y1_train = []\n",
    "y1_test = []\n",
    "\n",
    "x2_train = []\n",
    "x2_test = []\n",
    "y2_train = []\n",
    "y2_test = []\n",
    "\n",
    "for i in range(num_examples):\n",
    "    if y_train[i] < 5:\n",
    "        x1_train.append(x_train[i]/255)\n",
    "        y1_train.append(y_train[i])\n",
    "    else:\n",
    "        x2_train.append(x_train[i]/255)\n",
    "        y2_train.append(y_train[i])\n",
    "\n",
    "num_test_examples = y_test.shape[0]\n",
    "        \n",
    "for i in range(num_test_examples):\n",
    "    if y_test[i] < 5:\n",
    "        x1_test.append(x_test[i]/255)\n",
    "        y1_test.append(y_test[i])\n",
    "    else:\n",
    "        x2_test.append(x_test[i]/255)\n",
    "        y2_test.append(y_test[i])\n"
   ]
  },
  {
   "cell_type": "code",
   "execution_count": 5,
   "metadata": {},
   "outputs": [],
   "source": [
    "X1_train = np.asarray(x1_train).reshape(-1,28,28,1)\n",
    "X1_test = np.asarray(x1_test).reshape(-1,28,28,1)\n",
    "\n",
    "X2_train = np.asarray(x2_train).reshape(-1,28,28,1)\n",
    "X2_test = np.asarray(x2_test).reshape(-1,28,28,1)\n",
    "\n",
    "Y1_train =np_utils.to_categorical(np.asarray(y1_train),num_classes=5)\n",
    "Y1_test =np_utils.to_categorical(np.asarray(y1_test),num_classes=5)\n",
    "\n",
    "Y2_train =np_utils.to_categorical(np.asarray(y2_train),num_classes=10)\n",
    "Y2_test =np_utils.to_categorical(np.asarray(y2_test),num_classes=10)"
   ]
  },
  {
   "cell_type": "code",
   "execution_count": 6,
   "metadata": {},
   "outputs": [
    {
     "name": "stdout",
     "output_type": "stream",
     "text": [
      "(10225, 28, 28, 1) (5139, 28, 28, 1)\n",
      "(10225, 5) (5139, 5)\n",
      "(9775, 28, 28, 1) (4861, 28, 28, 1)\n",
      "(9775, 10) (4861, 10)\n"
     ]
    }
   ],
   "source": [
    "print(X1_train.shape,X1_test.shape)\n",
    "print(Y1_train.shape,Y1_test.shape)\n",
    "\n",
    "print(X2_train.shape,X2_test.shape)\n",
    "print(Y2_train.shape,Y2_test.shape)"
   ]
  },
  {
   "cell_type": "code",
   "execution_count": 12,
   "metadata": {},
   "outputs": [
    {
     "name": "stderr",
     "output_type": "stream",
     "text": [
      "W0703 11:30:12.346653 4442912192 deprecation_wrapper.py:119] From /anaconda3/lib/python3.7/site-packages/keras/backend/tensorflow_backend.py:517: The name tf.placeholder is deprecated. Please use tf.compat.v1.placeholder instead.\n",
      "\n",
      "W0703 11:30:12.350996 4442912192 deprecation_wrapper.py:119] From /anaconda3/lib/python3.7/site-packages/keras/backend/tensorflow_backend.py:4138: The name tf.random_uniform is deprecated. Please use tf.random.uniform instead.\n",
      "\n",
      "W0703 11:30:12.389530 4442912192 deprecation_wrapper.py:119] From /anaconda3/lib/python3.7/site-packages/keras/backend/tensorflow_backend.py:3976: The name tf.nn.max_pool is deprecated. Please use tf.nn.max_pool2d instead.\n",
      "\n",
      "W0703 11:30:12.436630 4442912192 deprecation_wrapper.py:119] From /anaconda3/lib/python3.7/site-packages/keras/backend/tensorflow_backend.py:133: The name tf.placeholder_with_default is deprecated. Please use tf.compat.v1.placeholder_with_default instead.\n",
      "\n",
      "W0703 11:30:12.455241 4442912192 deprecation.py:506] From /anaconda3/lib/python3.7/site-packages/keras/backend/tensorflow_backend.py:3445: calling dropout (from tensorflow.python.ops.nn_ops) with keep_prob is deprecated and will be removed in a future version.\n",
      "Instructions for updating:\n",
      "Please use `rate` instead of `keep_prob`. Rate should be set to `rate = 1 - keep_prob`.\n"
     ]
    },
    {
     "name": "stdout",
     "output_type": "stream",
     "text": [
      "_________________________________________________________________\n",
      "Layer (type)                 Output Shape              Param #   \n",
      "=================================================================\n",
      "conv2d_1 (Conv2D)            (None, 24, 24, 32)        832       \n",
      "_________________________________________________________________\n",
      "conv2d_2 (Conv2D)            (None, 20, 20, 16)        12816     \n",
      "_________________________________________________________________\n",
      "max_pooling2d_1 (MaxPooling2 (None, 10, 10, 16)        0         \n",
      "_________________________________________________________________\n",
      "conv2d_3 (Conv2D)            (None, 8, 8, 8)           1160      \n",
      "_________________________________________________________________\n",
      "flatten_1 (Flatten)          (None, 512)               0         \n",
      "_________________________________________________________________\n",
      "dropout_1 (Dropout)          (None, 512)               0         \n",
      "_________________________________________________________________\n",
      "dense_1 (Dense)              (None, 128)               65664     \n",
      "_________________________________________________________________\n",
      "activation_1 (Activation)    (None, 128)               0         \n",
      "_________________________________________________________________\n",
      "dense_2 (Dense)              (None, 5)                 645       \n",
      "_________________________________________________________________\n",
      "activation_2 (Activation)    (None, 5)                 0         \n",
      "=================================================================\n",
      "Total params: 81,117\n",
      "Trainable params: 81,117\n",
      "Non-trainable params: 0\n",
      "_________________________________________________________________\n"
     ]
    }
   ],
   "source": [
    "model = Sequential()\n",
    "\n",
    "model.add(Conv2D(32,5, input_shape=(28,28,1),activation='relu'))\n",
    "#(24,24,32)\n",
    "model.add(Conv2D(16,5,activation='relu'))\n",
    "#(20,20,16)\n",
    "model.add(MaxPooling2D(pool_size=(2,2)))\n",
    "#(10,10,16)\n",
    "model.add(Conv2D(8,3,activation='relu'))\n",
    "#(8,8,8)\n",
    "model.add(Flatten())\n",
    "#(512)\n",
    "model.add(Dropout(0.4))\n",
    "model.add(Dense(128))\n",
    "model.add(Activation('relu'))\n",
    "model.add(Dense(5))\n",
    "model.add(Activation('softmax'))\n",
    "\n",
    "model.summary()"
   ]
  },
  {
   "cell_type": "code",
   "execution_count": 15,
   "metadata": {},
   "outputs": [],
   "source": [
    "model.compile(loss='categorical_crossentropy',optimizer='adam',metrics=['accuracy'])"
   ]
  },
  {
   "cell_type": "code",
   "execution_count": 20,
   "metadata": {},
   "outputs": [
    {
     "name": "stdout",
     "output_type": "stream",
     "text": [
      "0:00:05.005479\n"
     ]
    }
   ],
   "source": [
    "import time\n",
    "import datetime\n",
    "\n",
    "start = datetime.datetime.now()\n",
    "time.sleep(5)\n",
    "end = datetime.datetime.now()\n",
    "print(end - start)"
   ]
  },
  {
   "cell_type": "code",
   "execution_count": 21,
   "metadata": {},
   "outputs": [
    {
     "name": "stderr",
     "output_type": "stream",
     "text": [
      "/anaconda3/lib/python3.7/site-packages/ipykernel_launcher.py:8: UserWarning: The `nb_epoch` argument in `fit` has been renamed `epochs`.\n",
      "  \n",
      "W0703 11:43:35.017674 4442912192 deprecation.py:323] From /anaconda3/lib/python3.7/site-packages/tensorflow/python/ops/math_grad.py:1250: add_dispatch_support.<locals>.wrapper (from tensorflow.python.ops.array_ops) is deprecated and will be removed in a future version.\n",
      "Instructions for updating:\n",
      "Use tf.where in 2.0, which has the same broadcast rule as np.where\n"
     ]
    },
    {
     "name": "stdout",
     "output_type": "stream",
     "text": [
      "Train on 10225 samples, validate on 5139 samples\n",
      "Epoch 1/10\n",
      " - 10s - loss: 0.3422 - acc: 0.8878 - val_loss: 0.0595 - val_acc: 0.9827\n",
      "Epoch 2/10\n",
      " - 10s - loss: 0.0894 - acc: 0.9733 - val_loss: 0.0355 - val_acc: 0.9895\n",
      "Epoch 3/10\n",
      " - 10s - loss: 0.0618 - acc: 0.9802 - val_loss: 0.0214 - val_acc: 0.9926\n",
      "Epoch 4/10\n",
      " - 10s - loss: 0.0461 - acc: 0.9853 - val_loss: 0.0194 - val_acc: 0.9938\n",
      "Epoch 5/10\n",
      " - 11s - loss: 0.0397 - acc: 0.9883 - val_loss: 0.0130 - val_acc: 0.9957\n",
      "Epoch 6/10\n",
      " - 11s - loss: 0.0351 - acc: 0.9888 - val_loss: 0.0131 - val_acc: 0.9946\n",
      "Epoch 7/10\n",
      " - 11s - loss: 0.0268 - acc: 0.9913 - val_loss: 0.0125 - val_acc: 0.9951\n",
      "Epoch 8/10\n",
      " - 11s - loss: 0.0239 - acc: 0.9926 - val_loss: 0.0097 - val_acc: 0.9963\n",
      "Epoch 9/10\n",
      " - 13s - loss: 0.0221 - acc: 0.9920 - val_loss: 0.0079 - val_acc: 0.9971\n",
      "Epoch 10/10\n",
      " - 13s - loss: 0.0179 - acc: 0.9937 - val_loss: 0.0141 - val_acc: 0.9953\n",
      "0:01:50.903487\n"
     ]
    }
   ],
   "source": [
    "start = datetime.datetime.now()\n",
    "\n",
    "model.fit(X1_train,Y1_train,\n",
    "          nb_epoch=10,\n",
    "          shuffle = True,\n",
    "          batch_size = 100,\n",
    "          verbose =2,\n",
    "          validation_data=(X1_test,Y1_test))\n",
    "end = datetime.datetime.now()\n",
    "print(end - start)"
   ]
  },
  {
   "cell_type": "code",
   "execution_count": 22,
   "metadata": {},
   "outputs": [
    {
     "data": {
      "text/plain": [
       "[<keras.layers.convolutional.Conv2D at 0xb41bc35c0>,\n",
       " <keras.layers.convolutional.Conv2D at 0xb41bc3710>,\n",
       " <keras.layers.pooling.MaxPooling2D at 0xb415032b0>,\n",
       " <keras.layers.convolutional.Conv2D at 0xb4092c518>,\n",
       " <keras.layers.core.Flatten at 0xb411f5748>,\n",
       " <keras.layers.core.Dropout at 0xb411f5fd0>,\n",
       " <keras.layers.core.Dense at 0xb41abbc50>,\n",
       " <keras.layers.core.Activation at 0xb41a3cf60>,\n",
       " <keras.layers.core.Dense at 0xb419b3860>,\n",
       " <keras.layers.core.Activation at 0xb41b68588>]"
      ]
     },
     "execution_count": 22,
     "metadata": {},
     "output_type": "execute_result"
    }
   ],
   "source": [
    "model.layers"
   ]
  },
  {
   "cell_type": "code",
   "execution_count": 34,
   "metadata": {},
   "outputs": [
    {
     "name": "stdout",
     "output_type": "stream",
     "text": [
      "False\n",
      "False\n",
      "False\n",
      "False\n",
      "False\n",
      "False\n",
      "True\n",
      "True\n",
      "True\n",
      "True\n"
     ]
    }
   ],
   "source": [
    "for layer in model.layers[:6]:\n",
    "    layer.trainable = False\n",
    "    \n",
    "for layer in model.layers:\n",
    "    print(layer.trainable)"
   ]
  },
  {
   "cell_type": "code",
   "execution_count": null,
   "metadata": {},
   "outputs": [],
   "source": []
  },
  {
   "cell_type": "code",
   "execution_count": 36,
   "metadata": {},
   "outputs": [
    {
     "name": "stdout",
     "output_type": "stream",
     "text": [
      "_________________________________________________________________\n",
      "Layer (type)                 Output Shape              Param #   \n",
      "=================================================================\n",
      "conv2d_1 (Conv2D)            (None, 24, 24, 32)        832       \n",
      "_________________________________________________________________\n",
      "conv2d_2 (Conv2D)            (None, 20, 20, 16)        12816     \n",
      "_________________________________________________________________\n",
      "max_pooling2d_1 (MaxPooling2 (None, 10, 10, 16)        0         \n",
      "_________________________________________________________________\n",
      "conv2d_3 (Conv2D)            (None, 8, 8, 8)           1160      \n",
      "_________________________________________________________________\n",
      "flatten_1 (Flatten)          (None, 512)               0         \n",
      "_________________________________________________________________\n",
      "dropout_1 (Dropout)          (None, 512)               0         \n",
      "_________________________________________________________________\n",
      "dense_3 (Dense)              (None, 128)               65664     \n",
      "_________________________________________________________________\n",
      "activation_3 (Activation)    (None, 128)               0         \n",
      "_________________________________________________________________\n",
      "dense_4 (Dense)              (None, 10)                1290      \n",
      "_________________________________________________________________\n",
      "activation_4 (Activation)    (None, 10)                0         \n",
      "=================================================================\n",
      "Total params: 81,762\n",
      "Trainable params: 66,954\n",
      "Non-trainable params: 14,808\n",
      "_________________________________________________________________\n"
     ]
    }
   ],
   "source": [
    "trans_model = Sequential(model.layers[:6])\n",
    "\n",
    "trans_model.add(Dense(128))\n",
    "trans_model.add(Activation('relu'))\n",
    "trans_model.add(Dense(10))\n",
    "trans_model.add(Activation('softmax'))\n",
    "\n",
    "trans_model.summary()"
   ]
  },
  {
   "cell_type": "code",
   "execution_count": 37,
   "metadata": {},
   "outputs": [],
   "source": [
    "trans_model.compile(loss='categorical_crossentropy',optimizer='adam',metrics=['accuracy'])"
   ]
  },
  {
   "cell_type": "code",
   "execution_count": 39,
   "metadata": {},
   "outputs": [
    {
     "name": "stderr",
     "output_type": "stream",
     "text": [
      "/anaconda3/lib/python3.7/site-packages/ipykernel_launcher.py:8: UserWarning: The `nb_epoch` argument in `fit` has been renamed `epochs`.\n",
      "  \n"
     ]
    },
    {
     "name": "stdout",
     "output_type": "stream",
     "text": [
      "Train on 9775 samples, validate on 4861 samples\n",
      "Epoch 1/10\n",
      " - 3s - loss: 0.3197 - acc: 0.8976 - val_loss: 0.0826 - val_acc: 0.9739\n",
      "Epoch 2/10\n",
      " - 3s - loss: 0.1073 - acc: 0.9657 - val_loss: 0.0649 - val_acc: 0.9774\n",
      "Epoch 3/10\n",
      " - 2s - loss: 0.0827 - acc: 0.9737 - val_loss: 0.0514 - val_acc: 0.9817\n",
      "Epoch 4/10\n",
      " - 2s - loss: 0.0725 - acc: 0.9755 - val_loss: 0.0499 - val_acc: 0.9833\n",
      "Epoch 5/10\n",
      " - 2s - loss: 0.0646 - acc: 0.9805 - val_loss: 0.0415 - val_acc: 0.9877\n",
      "Epoch 6/10\n",
      " - 2s - loss: 0.0611 - acc: 0.9795 - val_loss: 0.0440 - val_acc: 0.9852\n",
      "Epoch 7/10\n",
      " - 2s - loss: 0.0540 - acc: 0.9812 - val_loss: 0.0448 - val_acc: 0.9856\n",
      "Epoch 8/10\n",
      " - 2s - loss: 0.0484 - acc: 0.9835 - val_loss: 0.0384 - val_acc: 0.9877\n",
      "Epoch 9/10\n",
      " - 3s - loss: 0.0480 - acc: 0.9841 - val_loss: 0.0379 - val_acc: 0.9875\n",
      "Epoch 10/10\n",
      " - 3s - loss: 0.0456 - acc: 0.9847 - val_loss: 0.0417 - val_acc: 0.9854\n",
      "0:00:25.348483\n"
     ]
    }
   ],
   "source": [
    "start = datetime.datetime.now()\n",
    "\n",
    "trans_model.fit(X2_train,Y2_train,\n",
    "          nb_epoch=10,\n",
    "          shuffle = True,\n",
    "          batch_size = 100,\n",
    "          verbose =2,\n",
    "          validation_data=(X2_test,Y2_test))\n",
    "end = datetime.datetime.now()\n",
    "print(end - start)"
   ]
  },
  {
   "cell_type": "code",
   "execution_count": null,
   "metadata": {},
   "outputs": [],
   "source": []
  },
  {
   "cell_type": "code",
   "execution_count": null,
   "metadata": {},
   "outputs": [],
   "source": []
  },
  {
   "cell_type": "code",
   "execution_count": null,
   "metadata": {},
   "outputs": [],
   "source": []
  },
  {
   "cell_type": "code",
   "execution_count": null,
   "metadata": {},
   "outputs": [],
   "source": []
  },
  {
   "cell_type": "code",
   "execution_count": null,
   "metadata": {},
   "outputs": [],
   "source": []
  },
  {
   "cell_type": "code",
   "execution_count": null,
   "metadata": {},
   "outputs": [],
   "source": []
  },
  {
   "cell_type": "code",
   "execution_count": null,
   "metadata": {},
   "outputs": [],
   "source": []
  },
  {
   "cell_type": "code",
   "execution_count": null,
   "metadata": {},
   "outputs": [],
   "source": []
  },
  {
   "cell_type": "code",
   "execution_count": null,
   "metadata": {},
   "outputs": [],
   "source": []
  },
  {
   "cell_type": "code",
   "execution_count": null,
   "metadata": {},
   "outputs": [],
   "source": []
  },
  {
   "cell_type": "code",
   "execution_count": null,
   "metadata": {},
   "outputs": [],
   "source": []
  },
  {
   "cell_type": "code",
   "execution_count": null,
   "metadata": {},
   "outputs": [],
   "source": []
  },
  {
   "cell_type": "code",
   "execution_count": null,
   "metadata": {},
   "outputs": [],
   "source": []
  },
  {
   "cell_type": "code",
   "execution_count": null,
   "metadata": {},
   "outputs": [],
   "source": []
  },
  {
   "cell_type": "code",
   "execution_count": null,
   "metadata": {},
   "outputs": [],
   "source": []
  },
  {
   "cell_type": "code",
   "execution_count": null,
   "metadata": {},
   "outputs": [],
   "source": []
  },
  {
   "cell_type": "code",
   "execution_count": null,
   "metadata": {},
   "outputs": [],
   "source": []
  },
  {
   "cell_type": "code",
   "execution_count": null,
   "metadata": {},
   "outputs": [],
   "source": []
  },
  {
   "cell_type": "code",
   "execution_count": null,
   "metadata": {},
   "outputs": [],
   "source": []
  },
  {
   "cell_type": "code",
   "execution_count": null,
   "metadata": {},
   "outputs": [],
   "source": []
  },
  {
   "cell_type": "code",
   "execution_count": null,
   "metadata": {},
   "outputs": [],
   "source": []
  },
  {
   "cell_type": "code",
   "execution_count": null,
   "metadata": {},
   "outputs": [],
   "source": []
  },
  {
   "cell_type": "code",
   "execution_count": null,
   "metadata": {},
   "outputs": [],
   "source": []
  },
  {
   "cell_type": "code",
   "execution_count": null,
   "metadata": {},
   "outputs": [],
   "source": []
  },
  {
   "cell_type": "code",
   "execution_count": null,
   "metadata": {},
   "outputs": [],
   "source": []
  },
  {
   "cell_type": "code",
   "execution_count": null,
   "metadata": {},
   "outputs": [],
   "source": []
  },
  {
   "cell_type": "code",
   "execution_count": null,
   "metadata": {},
   "outputs": [],
   "source": []
  },
  {
   "cell_type": "code",
   "execution_count": null,
   "metadata": {},
   "outputs": [],
   "source": []
  },
  {
   "cell_type": "code",
   "execution_count": null,
   "metadata": {},
   "outputs": [],
   "source": []
  },
  {
   "cell_type": "code",
   "execution_count": null,
   "metadata": {},
   "outputs": [],
   "source": []
  }
 ],
 "metadata": {
  "kernelspec": {
   "display_name": "Python 3",
   "language": "python",
   "name": "python3"
  },
  "language_info": {
   "codemirror_mode": {
    "name": "ipython",
    "version": 3
   },
   "file_extension": ".py",
   "mimetype": "text/x-python",
   "name": "python",
   "nbconvert_exporter": "python",
   "pygments_lexer": "ipython3",
   "version": "3.7.3"
  }
 },
 "nbformat": 4,
 "nbformat_minor": 2
}
