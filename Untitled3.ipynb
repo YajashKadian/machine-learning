{
 "cells": [
  {
   "cell_type": "code",
   "execution_count": 2,
   "metadata": {},
   "outputs": [
    {
     "name": "stdout",
     "output_type": "stream",
     "text": [
      "Requirement already satisfied: SpeechRecognition in /anaconda3/lib/python3.7/site-packages (3.8.1)\r\n"
     ]
    }
   ],
   "source": [
    "!pip install SpeechRecognition"
   ]
  },
  {
   "cell_type": "code",
   "execution_count": 5,
   "metadata": {},
   "outputs": [
    {
     "name": "stdout",
     "output_type": "stream",
     "text": [
      "Requirement already satisfied: pyttsx3 in /anaconda3/lib/python3.7/site-packages (2.71)\n",
      "Requirement already satisfied: pyobjc>=2.4; \"darwin\" in sys_platform in /anaconda3/lib/python3.7/site-packages (from pyttsx3) (5.2)\n",
      "Requirement already satisfied: pyobjc-framework-AppleScriptKit==5.2 in /anaconda3/lib/python3.7/site-packages (from pyobjc>=2.4; \"darwin\" in sys_platform->pyttsx3) (5.2)\n",
      "Requirement already satisfied: pyobjc-framework-GameKit==5.2; platform_release >= \"12.0\" in /anaconda3/lib/python3.7/site-packages (from pyobjc>=2.4; \"darwin\" in sys_platform->pyttsx3) (5.2)\n",
      "Requirement already satisfied: pyobjc-framework-PubSub==5.2; platform_release >= \"9.0\" in /anaconda3/lib/python3.7/site-packages (from pyobjc>=2.4; \"darwin\" in sys_platform->pyttsx3) (5.2)\n",
      "Requirement already satisfied: pyobjc-framework-NetFS==5.2; platform_release >= \"10.0\" in /anaconda3/lib/python3.7/site-packages (from pyobjc>=2.4; \"darwin\" in sys_platform->pyttsx3) (5.2)\n",
      "Requirement already satisfied: pyobjc-framework-CryptoTokenKit==5.2; platform_release >= \"14.0\" in /anaconda3/lib/python3.7/site-packages (from pyobjc>=2.4; \"darwin\" in sys_platform->pyttsx3) (5.2)\n",
      "Requirement already satisfied: pyobjc-framework-LocalAuthentication==5.2; platform_release >= \"14.0\" in /anaconda3/lib/python3.7/site-packages (from pyobjc>=2.4; \"darwin\" in sys_platform->pyttsx3) (5.2)\n",
      "Requirement already satisfied: pyobjc-framework-MediaPlayer==5.2; platform_release >= \"16.0\" in /anaconda3/lib/python3.7/site-packages (from pyobjc>=2.4; \"darwin\" in sys_platform->pyttsx3) (5.2)\n",
      "Requirement already satisfied: pyobjc-framework-VideoToolbox==5.2; platform_release >= \"12.0\" in /anaconda3/lib/python3.7/site-packages (from pyobjc>=2.4; \"darwin\" in sys_platform->pyttsx3) (5.2)\n",
      "Requirement already satisfied: pyobjc-framework-Collaboration==5.2; platform_release >= \"9.0\" in /anaconda3/lib/python3.7/site-packages (from pyobjc>=2.4; \"darwin\" in sys_platform->pyttsx3) (5.2)\n",
      "Requirement already satisfied: pyobjc-framework-SecurityInterface==5.2 in /anaconda3/lib/python3.7/site-packages (from pyobjc>=2.4; \"darwin\" in sys_platform->pyttsx3) (5.2)\n",
      "Requirement already satisfied: pyobjc-framework-ColorSync==5.2; platform_release >= \"17.0\" in /anaconda3/lib/python3.7/site-packages (from pyobjc>=2.4; \"darwin\" in sys_platform->pyttsx3) (5.2)\n",
      "Requirement already satisfied: pyobjc-framework-CoreAudioKit==5.2 in /anaconda3/lib/python3.7/site-packages (from pyobjc>=2.4; \"darwin\" in sys_platform->pyttsx3) (5.2)\n",
      "Requirement already satisfied: pyobjc-framework-MediaLibrary==5.2; platform_release >= \"13.0\" in /anaconda3/lib/python3.7/site-packages (from pyobjc>=2.4; \"darwin\" in sys_platform->pyttsx3) (5.2)\n",
      "Requirement already satisfied: pyobjc-framework-FinderSync==5.2; platform_release >= \"14.0\" in /anaconda3/lib/python3.7/site-packages (from pyobjc>=2.4; \"darwin\" in sys_platform->pyttsx3) (5.2)\n",
      "Requirement already satisfied: pyobjc-framework-NotificationCenter==5.2; platform_release >= \"14.0\" in /anaconda3/lib/python3.7/site-packages (from pyobjc>=2.4; \"darwin\" in sys_platform->pyttsx3) (5.2)\n",
      "Requirement already satisfied: pyobjc-framework-AddressBook==5.2 in /anaconda3/lib/python3.7/site-packages (from pyobjc>=2.4; \"darwin\" in sys_platform->pyttsx3) (5.2)\n",
      "Requirement already satisfied: pyobjc-framework-SceneKit==5.2; platform_release >= \"11.0\" in /anaconda3/lib/python3.7/site-packages (from pyobjc>=2.4; \"darwin\" in sys_platform->pyttsx3) (5.2)\n",
      "Requirement already satisfied: pyobjc-framework-ContactsUI==5.2; platform_release >= \"15.0\" in /anaconda3/lib/python3.7/site-packages (from pyobjc>=2.4; \"darwin\" in sys_platform->pyttsx3) (5.2)\n",
      "Requirement already satisfied: pyobjc-framework-VideoSubscriberAccount==5.2; platform_release >= \"18.0\" in /anaconda3/lib/python3.7/site-packages (from pyobjc>=2.4; \"darwin\" in sys_platform->pyttsx3) (5.2)\n",
      "Requirement already satisfied: pyobjc-framework-OpenDirectory==5.2; platform_release >= \"10.0\" in /anaconda3/lib/python3.7/site-packages (from pyobjc>=2.4; \"darwin\" in sys_platform->pyttsx3) (5.2)\n",
      "Requirement already satisfied: pyobjc-framework-StoreKit==5.2; platform_release >= \"11.0\" in /anaconda3/lib/python3.7/site-packages (from pyobjc>=2.4; \"darwin\" in sys_platform->pyttsx3) (5.2)\n",
      "Requirement already satisfied: pyobjc-framework-AVKit==5.2; platform_release >= \"13.0\" in /anaconda3/lib/python3.7/site-packages (from pyobjc>=2.4; \"darwin\" in sys_platform->pyttsx3) (5.2)\n",
      "Requirement already satisfied: pyobjc-framework-InputMethodKit==5.2; platform_release >= \"9.0\" in /anaconda3/lib/python3.7/site-packages (from pyobjc>=2.4; \"darwin\" in sys_platform->pyttsx3) (5.2)\n",
      "Requirement already satisfied: pyobjc-framework-ScriptingBridge==5.2; platform_release >= \"9.0\" in /anaconda3/lib/python3.7/site-packages (from pyobjc>=2.4; \"darwin\" in sys_platform->pyttsx3) (5.2)\n",
      "Requirement already satisfied: pyobjc-framework-ImageCaptureCore==5.2; platform_release >= \"10.0\" in /anaconda3/lib/python3.7/site-packages (from pyobjc>=2.4; \"darwin\" in sys_platform->pyttsx3) (5.2)\n",
      "Requirement already satisfied: pyobjc-framework-Quartz==5.2 in /anaconda3/lib/python3.7/site-packages (from pyobjc>=2.4; \"darwin\" in sys_platform->pyttsx3) (5.2)\n",
      "Requirement already satisfied: pyobjc-framework-AdSupport==5.2; platform_release >= \"18.0\" in /anaconda3/lib/python3.7/site-packages (from pyobjc>=2.4; \"darwin\" in sys_platform->pyttsx3) (5.2)\n",
      "Requirement already satisfied: pyobjc-framework-NetworkExtension==5.2; platform_release >= \"15.0\" in /anaconda3/lib/python3.7/site-packages (from pyobjc>=2.4; \"darwin\" in sys_platform->pyttsx3) (5.2)\n",
      "Requirement already satisfied: pyobjc-framework-CoreWLAN==5.2; platform_release >= \"10.0\" in /anaconda3/lib/python3.7/site-packages (from pyobjc>=2.4; \"darwin\" in sys_platform->pyttsx3) (5.2)\n",
      "Requirement already satisfied: pyobjc-framework-FSEvents==5.2; platform_release >= \"9.0\" in /anaconda3/lib/python3.7/site-packages (from pyobjc>=2.4; \"darwin\" in sys_platform->pyttsx3) (5.2)\n",
      "Requirement already satisfied: pyobjc-framework-Security==5.2 in /anaconda3/lib/python3.7/site-packages (from pyobjc>=2.4; \"darwin\" in sys_platform->pyttsx3) (5.2)\n",
      "Requirement already satisfied: pyobjc-framework-SafariServices==5.2; platform_release >= \"15.0\" in /anaconda3/lib/python3.7/site-packages (from pyobjc>=2.4; \"darwin\" in sys_platform->pyttsx3) (5.2)\n",
      "Requirement already satisfied: pyobjc-framework-AppleScriptObjC==5.2; platform_release >= \"10.0\" in /anaconda3/lib/python3.7/site-packages (from pyobjc>=2.4; \"darwin\" in sys_platform->pyttsx3) (5.2)\n",
      "Requirement already satisfied: pyobjc-framework-Automator==5.2 in /anaconda3/lib/python3.7/site-packages (from pyobjc>=2.4; \"darwin\" in sys_platform->pyttsx3) (5.2)\n",
      "Requirement already satisfied: pyobjc-framework-Cocoa==5.2 in /anaconda3/lib/python3.7/site-packages (from pyobjc>=2.4; \"darwin\" in sys_platform->pyttsx3) (5.2)\n",
      "Requirement already satisfied: pyobjc-framework-CoreSpotlight==5.2; platform_release >= \"17.0\" in /anaconda3/lib/python3.7/site-packages (from pyobjc>=2.4; \"darwin\" in sys_platform->pyttsx3) (5.2)\n",
      "Requirement already satisfied: pyobjc-framework-SyncServices==5.2 in /anaconda3/lib/python3.7/site-packages (from pyobjc>=2.4; \"darwin\" in sys_platform->pyttsx3) (5.2)\n",
      "Requirement already satisfied: pyobjc-framework-MultipeerConnectivity==5.2; platform_release >= \"14.0\" in /anaconda3/lib/python3.7/site-packages (from pyobjc>=2.4; \"darwin\" in sys_platform->pyttsx3) (5.2)\n",
      "Requirement already satisfied: pyobjc-framework-ScreenSaver==5.2 in /anaconda3/lib/python3.7/site-packages (from pyobjc>=2.4; \"darwin\" in sys_platform->pyttsx3) (5.2)\n",
      "Requirement already satisfied: pyobjc-framework-ExceptionHandling==5.2 in /anaconda3/lib/python3.7/site-packages (from pyobjc>=2.4; \"darwin\" in sys_platform->pyttsx3) (5.2)\n",
      "Requirement already satisfied: pyobjc-framework-CoreServices==5.2 in /anaconda3/lib/python3.7/site-packages (from pyobjc>=2.4; \"darwin\" in sys_platform->pyttsx3) (5.2)\n",
      "Requirement already satisfied: pyobjc-framework-ApplicationServices==5.2 in /anaconda3/lib/python3.7/site-packages (from pyobjc>=2.4; \"darwin\" in sys_platform->pyttsx3) (5.2)\n",
      "Requirement already satisfied: pyobjc-framework-LaunchServices==5.2 in /anaconda3/lib/python3.7/site-packages (from pyobjc>=2.4; \"darwin\" in sys_platform->pyttsx3) (5.2)\n",
      "Requirement already satisfied: pyobjc-framework-ModelIO==5.2; platform_release >= \"15.0\" in /anaconda3/lib/python3.7/site-packages (from pyobjc>=2.4; \"darwin\" in sys_platform->pyttsx3) (5.2)\n",
      "Requirement already satisfied: pyobjc-framework-MapKit==5.2; platform_release >= \"13.0\" in /anaconda3/lib/python3.7/site-packages (from pyobjc>=2.4; \"darwin\" in sys_platform->pyttsx3) (5.2)\n",
      "Requirement already satisfied: pyobjc-framework-SystemConfiguration==5.2 in /anaconda3/lib/python3.7/site-packages (from pyobjc>=2.4; \"darwin\" in sys_platform->pyttsx3) (5.2)\n",
      "Requirement already satisfied: pyobjc-framework-CloudKit==5.2; platform_release >= \"14.0\" in /anaconda3/lib/python3.7/site-packages (from pyobjc>=2.4; \"darwin\" in sys_platform->pyttsx3) (5.2)\n"
     ]
    },
    {
     "name": "stdout",
     "output_type": "stream",
     "text": [
      "Requirement already satisfied: pyobjc-framework-CalendarStore==5.2; platform_release >= \"9.0\" in /anaconda3/lib/python3.7/site-packages (from pyobjc>=2.4; \"darwin\" in sys_platform->pyttsx3) (5.2)\n",
      "Requirement already satisfied: pyobjc-framework-CoreText==5.2 in /anaconda3/lib/python3.7/site-packages (from pyobjc>=2.4; \"darwin\" in sys_platform->pyttsx3) (5.2)\n",
      "Requirement already satisfied: pyobjc-framework-DVDPlayback==5.2 in /anaconda3/lib/python3.7/site-packages (from pyobjc>=2.4; \"darwin\" in sys_platform->pyttsx3) (5.2)\n",
      "Requirement already satisfied: pyobjc-framework-GameController==5.2; platform_release >= \"13.0\" in /anaconda3/lib/python3.7/site-packages (from pyobjc>=2.4; \"darwin\" in sys_platform->pyttsx3) (5.2)\n",
      "Requirement already satisfied: pyobjc-framework-SpriteKit==5.2; platform_release >= \"13.0\" in /anaconda3/lib/python3.7/site-packages (from pyobjc>=2.4; \"darwin\" in sys_platform->pyttsx3) (5.2)\n",
      "Requirement already satisfied: pyobjc-framework-iTunesLibrary==5.2; platform_release >= \"10.0\" in /anaconda3/lib/python3.7/site-packages (from pyobjc>=2.4; \"darwin\" in sys_platform->pyttsx3) (5.2)\n",
      "Requirement already satisfied: pyobjc-framework-MediaAccessibility==5.2; platform_release >= \"13.0\" in /anaconda3/lib/python3.7/site-packages (from pyobjc>=2.4; \"darwin\" in sys_platform->pyttsx3) (5.2)\n",
      "Requirement already satisfied: pyobjc-framework-CoreAudio==5.2 in /anaconda3/lib/python3.7/site-packages (from pyobjc>=2.4; \"darwin\" in sys_platform->pyttsx3) (5.2)\n",
      "Requirement already satisfied: pyobjc-framework-PhotosUI==5.2; platform_release >= \"15.0\" in /anaconda3/lib/python3.7/site-packages (from pyobjc>=2.4; \"darwin\" in sys_platform->pyttsx3) (5.2)\n",
      "Requirement already satisfied: pyobjc-framework-PreferencePanes==5.2 in /anaconda3/lib/python3.7/site-packages (from pyobjc>=2.4; \"darwin\" in sys_platform->pyttsx3) (5.2)\n",
      "Requirement already satisfied: pyobjc-framework-Vision==5.2; platform_release >= \"17.0\" in /anaconda3/lib/python3.7/site-packages (from pyobjc>=2.4; \"darwin\" in sys_platform->pyttsx3) (5.2)\n",
      "Requirement already satisfied: pyobjc-framework-ExternalAccessory==5.2; platform_release >= \"17.0\" in /anaconda3/lib/python3.7/site-packages (from pyobjc>=2.4; \"darwin\" in sys_platform->pyttsx3) (5.2)\n",
      "Requirement already satisfied: pyobjc-framework-CoreLocation==5.2; platform_release >= \"10.0\" in /anaconda3/lib/python3.7/site-packages (from pyobjc>=2.4; \"darwin\" in sys_platform->pyttsx3) (5.2)\n",
      "Requirement already satisfied: pyobjc-framework-Photos==5.2; platform_release >= \"15.0\" in /anaconda3/lib/python3.7/site-packages (from pyobjc>=2.4; \"darwin\" in sys_platform->pyttsx3) (5.2)\n",
      "Requirement already satisfied: pyobjc-framework-SearchKit==5.2 in /anaconda3/lib/python3.7/site-packages (from pyobjc>=2.4; \"darwin\" in sys_platform->pyttsx3) (5.2)\n",
      "Requirement already satisfied: pyobjc-framework-QTKit==5.2; platform_release >= \"9.0\" in /anaconda3/lib/python3.7/site-packages (from pyobjc>=2.4; \"darwin\" in sys_platform->pyttsx3) (5.2)\n",
      "Requirement already satisfied: pyobjc-framework-OSAKit==5.2 in /anaconda3/lib/python3.7/site-packages (from pyobjc>=2.4; \"darwin\" in sys_platform->pyttsx3) (5.2)\n",
      "Requirement already satisfied: pyobjc-framework-InstallerPlugins==5.2 in /anaconda3/lib/python3.7/site-packages (from pyobjc>=2.4; \"darwin\" in sys_platform->pyttsx3) (5.2)\n",
      "Requirement already satisfied: pyobjc-framework-LatentSemanticMapping==5.2 in /anaconda3/lib/python3.7/site-packages (from pyobjc>=2.4; \"darwin\" in sys_platform->pyttsx3) (5.2)\n",
      "Requirement already satisfied: pyobjc-framework-Network==5.2; platform_release >= \"18.0\" in /anaconda3/lib/python3.7/site-packages (from pyobjc>=2.4; \"darwin\" in sys_platform->pyttsx3) (5.2)\n",
      "Requirement already satisfied: pyobjc-framework-ServiceManagement==5.2; platform_release >= \"10.0\" in /anaconda3/lib/python3.7/site-packages (from pyobjc>=2.4; \"darwin\" in sys_platform->pyttsx3) (5.2)\n",
      "Requirement already satisfied: pyobjc-framework-IMServicePlugIn==5.2; platform_release >= \"11.0\" in /anaconda3/lib/python3.7/site-packages (from pyobjc>=2.4; \"darwin\" in sys_platform->pyttsx3) (5.2)\n",
      "Requirement already satisfied: pyobjc-framework-Intents==5.2; platform_release >= \"16.0\" in /anaconda3/lib/python3.7/site-packages (from pyobjc>=2.4; \"darwin\" in sys_platform->pyttsx3) (5.2)\n",
      "Requirement already satisfied: pyobjc-framework-BusinessChat==5.2; platform_release >= \"18.0\" in /anaconda3/lib/python3.7/site-packages (from pyobjc>=2.4; \"darwin\" in sys_platform->pyttsx3) (5.2)\n",
      "Requirement already satisfied: pyobjc-framework-DiskArbitration==5.2 in /anaconda3/lib/python3.7/site-packages (from pyobjc>=2.4; \"darwin\" in sys_platform->pyttsx3) (5.2)\n",
      "Requirement already satisfied: pyobjc-framework-AVFoundation==5.2; platform_release >= \"11.0\" in /anaconda3/lib/python3.7/site-packages (from pyobjc>=2.4; \"darwin\" in sys_platform->pyttsx3) (5.2)\n",
      "Requirement already satisfied: pyobjc-framework-DiscRecordingUI==5.2 in /anaconda3/lib/python3.7/site-packages (from pyobjc>=2.4; \"darwin\" in sys_platform->pyttsx3) (5.2)\n",
      "Requirement already satisfied: pyobjc-framework-MediaToolbox==5.2; platform_release >= \"13.0\" in /anaconda3/lib/python3.7/site-packages (from pyobjc>=2.4; \"darwin\" in sys_platform->pyttsx3) (5.2)\n",
      "Requirement already satisfied: pyobjc-framework-NaturalLanguage==5.2; platform_release >= \"18.0\" in /anaconda3/lib/python3.7/site-packages (from pyobjc>=2.4; \"darwin\" in sys_platform->pyttsx3) (5.2)\n",
      "Requirement already satisfied: pyobjc-framework-InstantMessage==5.2; platform_release >= \"9.0\" in /anaconda3/lib/python3.7/site-packages (from pyobjc>=2.4; \"darwin\" in sys_platform->pyttsx3) (5.2)\n",
      "Requirement already satisfied: pyobjc-framework-CFNetwork==5.2 in /anaconda3/lib/python3.7/site-packages (from pyobjc>=2.4; \"darwin\" in sys_platform->pyttsx3) (5.2)\n",
      "Requirement already satisfied: pyobjc-framework-WebKit==5.2 in /anaconda3/lib/python3.7/site-packages (from pyobjc>=2.4; \"darwin\" in sys_platform->pyttsx3) (5.2)\n",
      "Requirement already satisfied: pyobjc-framework-Social==5.2; platform_release >= \"12.0\" in /anaconda3/lib/python3.7/site-packages (from pyobjc>=2.4; \"darwin\" in sys_platform->pyttsx3) (5.2)\n",
      "Requirement already satisfied: pyobjc-framework-CoreMediaIO==5.2; platform_release >= \"11.0\" in /anaconda3/lib/python3.7/site-packages (from pyobjc>=2.4; \"darwin\" in sys_platform->pyttsx3) (5.2)\n",
      "Requirement already satisfied: pyobjc-framework-GameCenter==5.2; platform_release >= \"12.0\" in /anaconda3/lib/python3.7/site-packages (from pyobjc>=2.4; \"darwin\" in sys_platform->pyttsx3) (5.2)\n",
      "Requirement already satisfied: pyobjc-framework-GameplayKit==5.2; platform_release >= \"15.0\" in /anaconda3/lib/python3.7/site-packages (from pyobjc>=2.4; \"darwin\" in sys_platform->pyttsx3) (5.2)\n",
      "Requirement already satisfied: pyobjc-framework-IOSurface==5.2; platform_release >= \"10.0\" in /anaconda3/lib/python3.7/site-packages (from pyobjc>=2.4; \"darwin\" in sys_platform->pyttsx3) (5.2)\n",
      "Requirement already satisfied: pyobjc-framework-CoreMedia==5.2; platform_release >= \"11.0\" in /anaconda3/lib/python3.7/site-packages (from pyobjc>=2.4; \"darwin\" in sys_platform->pyttsx3) (5.2)\n",
      "Requirement already satisfied: pyobjc-framework-CoreML==5.2; platform_release >= \"17.0\" in /anaconda3/lib/python3.7/site-packages (from pyobjc>=2.4; \"darwin\" in sys_platform->pyttsx3) (5.2)\n",
      "Requirement already satisfied: pyobjc-framework-DiscRecording==5.2 in /anaconda3/lib/python3.7/site-packages (from pyobjc>=2.4; \"darwin\" in sys_platform->pyttsx3) (5.2)\n",
      "Requirement already satisfied: pyobjc-framework-Accounts==5.2; platform_release >= \"12.0\" in /anaconda3/lib/python3.7/site-packages (from pyobjc>=2.4; \"darwin\" in sys_platform->pyttsx3) (5.2)\n",
      "Requirement already satisfied: pyobjc-framework-libdispatch==5.2; platform_release >= \"12.0\" in /anaconda3/lib/python3.7/site-packages (from pyobjc>=2.4; \"darwin\" in sys_platform->pyttsx3) (5.2)\n",
      "Requirement already satisfied: pyobjc-framework-UserNotifications==5.2; platform_release >= \"18.0\" in /anaconda3/lib/python3.7/site-packages (from pyobjc>=2.4; \"darwin\" in sys_platform->pyttsx3) (5.2)\n",
      "Requirement already satisfied: pyobjc-framework-CoreBluetooth==5.2; platform_release >= \"14.0\" in /anaconda3/lib/python3.7/site-packages (from pyobjc>=2.4; \"darwin\" in sys_platform->pyttsx3) (5.2)\n"
     ]
    },
    {
     "name": "stdout",
     "output_type": "stream",
     "text": [
      "Requirement already satisfied: pyobjc-framework-SecurityFoundation==5.2 in /anaconda3/lib/python3.7/site-packages (from pyobjc>=2.4; \"darwin\" in sys_platform->pyttsx3) (5.2)\r\n",
      "Requirement already satisfied: pyobjc-framework-Contacts==5.2; platform_release >= \"15.0\" in /anaconda3/lib/python3.7/site-packages (from pyobjc>=2.4; \"darwin\" in sys_platform->pyttsx3) (5.2)\r\n",
      "Requirement already satisfied: pyobjc-core==5.2 in /anaconda3/lib/python3.7/site-packages (from pyobjc>=2.4; \"darwin\" in sys_platform->pyttsx3) (5.2)\r\n",
      "Requirement already satisfied: pyobjc-framework-CoreData==5.2 in /anaconda3/lib/python3.7/site-packages (from pyobjc>=2.4; \"darwin\" in sys_platform->pyttsx3) (5.2)\r\n",
      "Requirement already satisfied: pyobjc-framework-DictionaryServices==5.2; platform_release >= \"9.0\" in /anaconda3/lib/python3.7/site-packages (from pyobjc>=2.4; \"darwin\" in sys_platform->pyttsx3) (5.2)\r\n",
      "Requirement already satisfied: pyobjc-framework-EventKit==5.2; platform_release >= \"12.0\" in /anaconda3/lib/python3.7/site-packages (from pyobjc>=2.4; \"darwin\" in sys_platform->pyttsx3) (5.2)\r\n"
     ]
    }
   ],
   "source": [
    "!pip install pyttsx3"
   ]
  },
  {
   "cell_type": "code",
   "execution_count": 6,
   "metadata": {},
   "outputs": [],
   "source": [
    "import pyttsx3"
   ]
  },
  {
   "cell_type": "code",
   "execution_count": null,
   "metadata": {},
   "outputs": [],
   "source": []
  }
 ],
 "metadata": {
  "kernelspec": {
   "display_name": "Python 3",
   "language": "python",
   "name": "python3"
  },
  "language_info": {
   "codemirror_mode": {
    "name": "ipython",
    "version": 3
   },
   "file_extension": ".py",
   "mimetype": "text/x-python",
   "name": "python",
   "nbconvert_exporter": "python",
   "pygments_lexer": "ipython3",
   "version": "3.7.3"
  }
 },
 "nbformat": 4,
 "nbformat_minor": 2
}
